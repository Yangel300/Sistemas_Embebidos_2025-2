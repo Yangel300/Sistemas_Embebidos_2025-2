{
  "nbformat": 4,
  "nbformat_minor": 0,
  "metadata": {
    "colab": {
      "provenance": [],
      "authorship_tag": "ABX9TyNcI5rDrJx5ABWvx7KRjENZ",
      "include_colab_link": true
    },
    "kernelspec": {
      "name": "python3",
      "display_name": "Python 3"
    },
    "language_info": {
      "name": "python"
    }
  },
  "cells": [
    {
      "cell_type": "markdown",
      "metadata": {
        "id": "view-in-github",
        "colab_type": "text"
      },
      "source": [
        "<a href=\"https://colab.research.google.com/github/Yangel300/Sistemas_Embebidos_2025-2/blob/main/Rules.ipynb\" target=\"_parent\"><img src=\"https://colab.research.google.com/assets/colab-badge.svg\" alt=\"Open In Colab\"/></a>"
      ]
    },
    {
      "cell_type": "code",
      "source": [
        "!pip install git+https://github.com/yuce/pyswip@master#egg=pyswip"
      ],
      "metadata": {
        "colab": {
          "base_uri": "https://localhost:8080/"
        },
        "id": "IrrDvofAi3a7",
        "outputId": "21e77852-84d6-4b80-f25a-b6bebbb59ff3"
      },
      "execution_count": 3,
      "outputs": [
        {
          "output_type": "stream",
          "name": "stdout",
          "text": [
            "Collecting pyswip\n",
            "  Cloning https://github.com/yuce/pyswip (to revision master) to /tmp/pip-install-c9gaj1tc/pyswip_82778bee74544475b39dffecf404957e\n",
            "  Running command git clone --filter=blob:none --quiet https://github.com/yuce/pyswip /tmp/pip-install-c9gaj1tc/pyswip_82778bee74544475b39dffecf404957e\n",
            "  Resolved https://github.com/yuce/pyswip to commit febd9c95fcd931f003b951d1f04fa7011cecc64e\n",
            "  Installing build dependencies ... \u001b[?25l\u001b[?25hdone\n",
            "  Getting requirements to build wheel ... \u001b[?25l\u001b[?25hdone\n",
            "  Preparing metadata (pyproject.toml) ... \u001b[?25l\u001b[?25hdone\n",
            "Building wheels for collected packages: pyswip\n",
            "  Building wheel for pyswip (pyproject.toml) ... \u001b[?25l\u001b[?25hdone\n",
            "  Created wheel for pyswip: filename=pyswip-0.3.3-py3-none-any.whl size=36095 sha256=4db5fabd5603185d3017a8a910209849b2d845e9885d0848488c6ae2288eab89\n",
            "  Stored in directory: /tmp/pip-ephem-wheel-cache-4yith0vt/wheels/12/74/4c/133ca0404488ee61599fbbf4501a90a584e99fcee1cf368a00\n",
            "Successfully built pyswip\n",
            "Installing collected packages: pyswip\n",
            "Successfully installed pyswip-0.3.3\n"
          ]
        }
      ]
    },
    {
      "cell_type": "code",
      "metadata": {
        "colab": {
          "base_uri": "https://localhost:8080/"
        },
        "id": "fda49346",
        "outputId": "f69743ce-cc49-4af9-cf2f-19ebbe0cb7fb"
      },
      "source": [
        "!sudo apt-get install swi-prolog -y"
      ],
      "execution_count": 8,
      "outputs": [
        {
          "output_type": "stream",
          "name": "stdout",
          "text": [
            "Reading package lists... Done\n",
            "Building dependency tree... Done\n",
            "Reading state information... Done\n",
            "The following additional packages will be installed:\n",
            "  autopoint debhelper debugedit dh-autoreconf dh-strip-nondeterminism dwz\n",
            "  gettext gettext-base intltool-debian libarchive-cpio-perl\n",
            "  libarchive-zip-perl libdebhelper-perl libfile-stripnondeterminism-perl\n",
            "  libmail-sendmail-perl libossp-uuid16 libsub-override-perl\n",
            "  libsys-hostname-long-perl libtool po-debconf swi-prolog-core\n",
            "  swi-prolog-core-packages swi-prolog-doc swi-prolog-nox swi-prolog-x\n",
            "Suggested packages:\n",
            "  dh-make gettext-doc libasprintf-dev libgettextpo-dev uuid libtool-doc\n",
            "  gcj-jdk libmail-box-perl elpa-ediprolog swi-prolog-java swi-prolog-odbc\n",
            "  swi-prolog-bdb\n",
            "The following NEW packages will be installed:\n",
            "  autopoint debhelper debugedit dh-autoreconf dh-strip-nondeterminism dwz\n",
            "  gettext gettext-base intltool-debian libarchive-cpio-perl\n",
            "  libarchive-zip-perl libdebhelper-perl libfile-stripnondeterminism-perl\n",
            "  libmail-sendmail-perl libossp-uuid16 libsub-override-perl\n",
            "  libsys-hostname-long-perl libtool po-debconf swi-prolog swi-prolog-core\n",
            "  swi-prolog-core-packages swi-prolog-doc swi-prolog-nox swi-prolog-x\n",
            "0 upgraded, 25 newly installed, 0 to remove and 35 not upgraded.\n",
            "Need to get 9,926 kB of archives.\n",
            "After this operation, 42.3 MB of additional disk space will be used.\n",
            "Get:1 http://archive.ubuntu.com/ubuntu jammy/main amd64 gettext-base amd64 0.21-4ubuntu4 [37.8 kB]\n",
            "Get:2 http://archive.ubuntu.com/ubuntu jammy/main amd64 autopoint all 0.21-4ubuntu4 [422 kB]\n",
            "Get:3 http://archive.ubuntu.com/ubuntu jammy/main amd64 libdebhelper-perl all 13.6ubuntu1 [67.2 kB]\n",
            "Get:4 http://archive.ubuntu.com/ubuntu jammy/main amd64 libtool all 2.4.6-15build2 [164 kB]\n",
            "Get:5 http://archive.ubuntu.com/ubuntu jammy/main amd64 dh-autoreconf all 20 [16.1 kB]\n",
            "Get:6 http://archive.ubuntu.com/ubuntu jammy/main amd64 libarchive-zip-perl all 1.68-1 [90.2 kB]\n",
            "Get:7 http://archive.ubuntu.com/ubuntu jammy/main amd64 libsub-override-perl all 0.09-2 [9,532 B]\n",
            "Get:8 http://archive.ubuntu.com/ubuntu jammy/main amd64 libfile-stripnondeterminism-perl all 1.13.0-1 [18.1 kB]\n",
            "Get:9 http://archive.ubuntu.com/ubuntu jammy/main amd64 dh-strip-nondeterminism all 1.13.0-1 [5,344 B]\n",
            "Get:10 http://archive.ubuntu.com/ubuntu jammy/main amd64 debugedit amd64 1:5.0-4build1 [47.2 kB]\n",
            "Get:11 http://archive.ubuntu.com/ubuntu jammy/main amd64 dwz amd64 0.14-1build2 [105 kB]\n",
            "Get:12 http://archive.ubuntu.com/ubuntu jammy/main amd64 gettext amd64 0.21-4ubuntu4 [868 kB]\n",
            "Get:13 http://archive.ubuntu.com/ubuntu jammy/main amd64 intltool-debian all 0.35.0+20060710.5 [24.9 kB]\n",
            "Get:14 http://archive.ubuntu.com/ubuntu jammy/main amd64 po-debconf all 1.0.21+nmu1 [233 kB]\n",
            "Get:15 http://archive.ubuntu.com/ubuntu jammy/main amd64 debhelper all 13.6ubuntu1 [923 kB]\n",
            "Get:16 http://archive.ubuntu.com/ubuntu jammy/main amd64 libarchive-cpio-perl all 0.10-1.1 [9,928 B]\n",
            "Get:17 http://archive.ubuntu.com/ubuntu jammy/main amd64 libsys-hostname-long-perl all 1.5-2 [11.5 kB]\n",
            "Get:18 http://archive.ubuntu.com/ubuntu jammy/main amd64 libmail-sendmail-perl all 0.80-1.1 [22.7 kB]\n",
            "Get:19 http://archive.ubuntu.com/ubuntu jammy/universe amd64 libossp-uuid16 amd64 1.6.2-1.5build9 [31.4 kB]\n",
            "Get:20 http://archive.ubuntu.com/ubuntu jammy/universe amd64 swi-prolog-core amd64 8.4.2+dfsg-2ubuntu1 [1,493 kB]\n",
            "Get:21 http://archive.ubuntu.com/ubuntu jammy/universe amd64 swi-prolog-doc all 8.4.2+dfsg-2ubuntu1 [1,504 kB]\n",
            "Get:22 http://archive.ubuntu.com/ubuntu jammy/universe amd64 swi-prolog-core-packages amd64 8.4.2+dfsg-2ubuntu1 [1,335 kB]\n",
            "Get:23 http://archive.ubuntu.com/ubuntu jammy/universe amd64 swi-prolog-nox amd64 8.4.2+dfsg-2ubuntu1 [165 kB]\n",
            "Get:24 http://archive.ubuntu.com/ubuntu jammy/universe amd64 swi-prolog-x amd64 8.4.2+dfsg-2ubuntu1 [2,314 kB]\n",
            "Get:25 http://archive.ubuntu.com/ubuntu jammy/universe amd64 swi-prolog amd64 8.4.2+dfsg-2ubuntu1 [9,122 B]\n",
            "Fetched 9,926 kB in 1s (11.1 MB/s)\n",
            "debconf: unable to initialize frontend: Dialog\n",
            "debconf: (No usable dialog-like program is installed, so the dialog based frontend cannot be used. at /usr/share/perl5/Debconf/FrontEnd/Dialog.pm line 78, <> line 25.)\n",
            "debconf: falling back to frontend: Readline\n",
            "debconf: unable to initialize frontend: Readline\n",
            "debconf: (This frontend requires a controlling tty.)\n",
            "debconf: falling back to frontend: Teletype\n",
            "dpkg-preconfigure: unable to re-open stdin: \n",
            "Selecting previously unselected package gettext-base.\n",
            "(Reading database ... 126435 files and directories currently installed.)\n",
            "Preparing to unpack .../00-gettext-base_0.21-4ubuntu4_amd64.deb ...\n",
            "Unpacking gettext-base (0.21-4ubuntu4) ...\n",
            "Selecting previously unselected package autopoint.\n",
            "Preparing to unpack .../01-autopoint_0.21-4ubuntu4_all.deb ...\n",
            "Unpacking autopoint (0.21-4ubuntu4) ...\n",
            "Selecting previously unselected package libdebhelper-perl.\n",
            "Preparing to unpack .../02-libdebhelper-perl_13.6ubuntu1_all.deb ...\n",
            "Unpacking libdebhelper-perl (13.6ubuntu1) ...\n",
            "Selecting previously unselected package libtool.\n",
            "Preparing to unpack .../03-libtool_2.4.6-15build2_all.deb ...\n",
            "Unpacking libtool (2.4.6-15build2) ...\n",
            "Selecting previously unselected package dh-autoreconf.\n",
            "Preparing to unpack .../04-dh-autoreconf_20_all.deb ...\n",
            "Unpacking dh-autoreconf (20) ...\n",
            "Selecting previously unselected package libarchive-zip-perl.\n",
            "Preparing to unpack .../05-libarchive-zip-perl_1.68-1_all.deb ...\n",
            "Unpacking libarchive-zip-perl (1.68-1) ...\n",
            "Selecting previously unselected package libsub-override-perl.\n",
            "Preparing to unpack .../06-libsub-override-perl_0.09-2_all.deb ...\n",
            "Unpacking libsub-override-perl (0.09-2) ...\n",
            "Selecting previously unselected package libfile-stripnondeterminism-perl.\n",
            "Preparing to unpack .../07-libfile-stripnondeterminism-perl_1.13.0-1_all.deb ...\n",
            "Unpacking libfile-stripnondeterminism-perl (1.13.0-1) ...\n",
            "Selecting previously unselected package dh-strip-nondeterminism.\n",
            "Preparing to unpack .../08-dh-strip-nondeterminism_1.13.0-1_all.deb ...\n",
            "Unpacking dh-strip-nondeterminism (1.13.0-1) ...\n",
            "Selecting previously unselected package debugedit.\n",
            "Preparing to unpack .../09-debugedit_1%3a5.0-4build1_amd64.deb ...\n",
            "Unpacking debugedit (1:5.0-4build1) ...\n",
            "Selecting previously unselected package dwz.\n",
            "Preparing to unpack .../10-dwz_0.14-1build2_amd64.deb ...\n",
            "Unpacking dwz (0.14-1build2) ...\n",
            "Selecting previously unselected package gettext.\n",
            "Preparing to unpack .../11-gettext_0.21-4ubuntu4_amd64.deb ...\n",
            "Unpacking gettext (0.21-4ubuntu4) ...\n",
            "Selecting previously unselected package intltool-debian.\n",
            "Preparing to unpack .../12-intltool-debian_0.35.0+20060710.5_all.deb ...\n",
            "Unpacking intltool-debian (0.35.0+20060710.5) ...\n",
            "Selecting previously unselected package po-debconf.\n",
            "Preparing to unpack .../13-po-debconf_1.0.21+nmu1_all.deb ...\n",
            "Unpacking po-debconf (1.0.21+nmu1) ...\n",
            "Selecting previously unselected package debhelper.\n",
            "Preparing to unpack .../14-debhelper_13.6ubuntu1_all.deb ...\n",
            "Unpacking debhelper (13.6ubuntu1) ...\n",
            "Selecting previously unselected package libarchive-cpio-perl.\n",
            "Preparing to unpack .../15-libarchive-cpio-perl_0.10-1.1_all.deb ...\n",
            "Unpacking libarchive-cpio-perl (0.10-1.1) ...\n",
            "Selecting previously unselected package libsys-hostname-long-perl.\n",
            "Preparing to unpack .../16-libsys-hostname-long-perl_1.5-2_all.deb ...\n",
            "Unpacking libsys-hostname-long-perl (1.5-2) ...\n",
            "Selecting previously unselected package libmail-sendmail-perl.\n",
            "Preparing to unpack .../17-libmail-sendmail-perl_0.80-1.1_all.deb ...\n",
            "Unpacking libmail-sendmail-perl (0.80-1.1) ...\n",
            "Selecting previously unselected package libossp-uuid16:amd64.\n",
            "Preparing to unpack .../18-libossp-uuid16_1.6.2-1.5build9_amd64.deb ...\n",
            "Unpacking libossp-uuid16:amd64 (1.6.2-1.5build9) ...\n",
            "Selecting previously unselected package swi-prolog-core.\n",
            "Preparing to unpack .../19-swi-prolog-core_8.4.2+dfsg-2ubuntu1_amd64.deb ...\n",
            "Unpacking swi-prolog-core (8.4.2+dfsg-2ubuntu1) ...\n",
            "Selecting previously unselected package swi-prolog-doc.\n",
            "Preparing to unpack .../20-swi-prolog-doc_8.4.2+dfsg-2ubuntu1_all.deb ...\n",
            "Unpacking swi-prolog-doc (8.4.2+dfsg-2ubuntu1) ...\n",
            "Selecting previously unselected package swi-prolog-core-packages.\n",
            "Preparing to unpack .../21-swi-prolog-core-packages_8.4.2+dfsg-2ubuntu1_amd64.deb ...\n",
            "Unpacking swi-prolog-core-packages (8.4.2+dfsg-2ubuntu1) ...\n",
            "Selecting previously unselected package swi-prolog-nox.\n",
            "Preparing to unpack .../22-swi-prolog-nox_8.4.2+dfsg-2ubuntu1_amd64.deb ...\n",
            "Unpacking swi-prolog-nox (8.4.2+dfsg-2ubuntu1) ...\n",
            "Selecting previously unselected package swi-prolog-x.\n",
            "Preparing to unpack .../23-swi-prolog-x_8.4.2+dfsg-2ubuntu1_amd64.deb ...\n",
            "Unpacking swi-prolog-x (8.4.2+dfsg-2ubuntu1) ...\n",
            "Selecting previously unselected package swi-prolog.\n",
            "Preparing to unpack .../24-swi-prolog_8.4.2+dfsg-2ubuntu1_amd64.deb ...\n",
            "Unpacking swi-prolog (8.4.2+dfsg-2ubuntu1) ...\n",
            "Setting up libtool (2.4.6-15build2) ...\n",
            "Setting up libarchive-zip-perl (1.68-1) ...\n",
            "Setting up libdebhelper-perl (13.6ubuntu1) ...\n",
            "Setting up gettext-base (0.21-4ubuntu4) ...\n",
            "Setting up libossp-uuid16:amd64 (1.6.2-1.5build9) ...\n",
            "Setting up swi-prolog-core (8.4.2+dfsg-2ubuntu1) ...\n",
            "update-alternatives: using /usr/bin/swipl to provide /usr/bin/prolog (prolog) in auto mode\n",
            "Setting up autopoint (0.21-4ubuntu4) ...\n",
            "Setting up dwz (0.14-1build2) ...\n",
            "Setting up swi-prolog-core-packages (8.4.2+dfsg-2ubuntu1) ...\n",
            "Setting up libarchive-cpio-perl (0.10-1.1) ...\n",
            "Setting up debugedit (1:5.0-4build1) ...\n",
            "Setting up swi-prolog-nox (8.4.2+dfsg-2ubuntu1) ...\n",
            "Setting up libsub-override-perl (0.09-2) ...\n",
            "Setting up libsys-hostname-long-perl (1.5-2) ...\n",
            "Setting up libfile-stripnondeterminism-perl (1.13.0-1) ...\n",
            "Setting up swi-prolog-x (8.4.2+dfsg-2ubuntu1) ...\n",
            "Setting up gettext (0.21-4ubuntu4) ...\n",
            "Setting up swi-prolog-doc (8.4.2+dfsg-2ubuntu1) ...\n",
            "Setting up intltool-debian (0.35.0+20060710.5) ...\n",
            "Setting up dh-autoreconf (20) ...\n",
            "Setting up libmail-sendmail-perl (0.80-1.1) ...\n",
            "Setting up dh-strip-nondeterminism (1.13.0-1) ...\n",
            "Setting up swi-prolog (8.4.2+dfsg-2ubuntu1) ...\n",
            "Setting up po-debconf (1.0.21+nmu1) ...\n",
            "Setting up debhelper (13.6ubuntu1) ...\n",
            "Processing triggers for libc-bin (2.35-0ubuntu3.8) ...\n",
            "/sbin/ldconfig.real: /usr/local/lib/libhwloc.so.15 is not a symbolic link\n",
            "\n",
            "/sbin/ldconfig.real: /usr/local/lib/libtbbmalloc.so.2 is not a symbolic link\n",
            "\n",
            "/sbin/ldconfig.real: /usr/local/lib/libtbbbind_2_5.so.3 is not a symbolic link\n",
            "\n",
            "/sbin/ldconfig.real: /usr/local/lib/libtcm.so.1 is not a symbolic link\n",
            "\n",
            "/sbin/ldconfig.real: /usr/local/lib/libur_adapter_level_zero_v2.so.0 is not a symbolic link\n",
            "\n",
            "/sbin/ldconfig.real: /usr/local/lib/libur_loader.so.0 is not a symbolic link\n",
            "\n",
            "/sbin/ldconfig.real: /usr/local/lib/libumf.so.0 is not a symbolic link\n",
            "\n",
            "/sbin/ldconfig.real: /usr/local/lib/libtcm_debug.so.1 is not a symbolic link\n",
            "\n",
            "/sbin/ldconfig.real: /usr/local/lib/libur_adapter_opencl.so.0 is not a symbolic link\n",
            "\n",
            "/sbin/ldconfig.real: /usr/local/lib/libur_adapter_level_zero.so.0 is not a symbolic link\n",
            "\n",
            "/sbin/ldconfig.real: /usr/local/lib/libtbbmalloc_proxy.so.2 is not a symbolic link\n",
            "\n",
            "/sbin/ldconfig.real: /usr/local/lib/libtbbbind_2_0.so.3 is not a symbolic link\n",
            "\n",
            "/sbin/ldconfig.real: /usr/local/lib/libtbb.so.12 is not a symbolic link\n",
            "\n",
            "/sbin/ldconfig.real: /usr/local/lib/libtbbbind.so.3 is not a symbolic link\n",
            "\n",
            "Processing triggers for man-db (2.10.2-1) ...\n"
          ]
        }
      ]
    },
    {
      "cell_type": "code",
      "source": [
        "from pyswip import Prolog\n",
        "prolog = Prolog()\n",
        "\n",
        "prolog.assertz(\"father('Clancy Bouvier','Patty Bouvier')\")\n",
        "prolog.assertz(\"father('Clancy Bouvier','Selma Bouvier')\")\n",
        "prolog.assertz(\"father('Clancy Bouvier', 'Marjorie Jacqueline Simpson')\")\n",
        "prolog.assertz(\"father('Grampa Simpson Abraham II','Herbert Powell')\")\n",
        "prolog.assertz(\"father('Grampa Simpson Abraham II','Abbey Simpson')\")\n",
        "prolog.assertz(\"father('Grampa Simpson Abraham II','Homer Jay Simpson')\")\n",
        "chlids3=[\"Bartholomew JoJo Simpson\", \"Lisa Marie Simpson\", \"Maggie Simpson\"]\n",
        "father3=\"Homer Jay Simpson\"\n",
        "prolog.assertz(f\"father('{father3}','{chlids3[0]}')\")\n",
        "prolog.assertz(f\"father('{father3}','{chlids3[1]}')\")\n",
        "prolog.assertz(f\"father('{father3}','{chlids3[2]}')\")"
      ],
      "metadata": {
        "id": "EXRjLWgJiscx"
      },
      "execution_count": 10,
      "outputs": []
    },
    {
      "cell_type": "code",
      "execution_count": 11,
      "metadata": {
        "colab": {
          "base_uri": "https://localhost:8080/"
        },
        "id": "VMD1G0jpib8E",
        "outputId": "9770964e-3bd1-47f5-ab15-3f1321aafb94"
      },
      "outputs": [
        {
          "output_type": "stream",
          "name": "stdout",
          "text": [
            "Jacqueline Ingrid Bouvier is the mother of Patty Bouvier\n",
            "Jacqueline Ingrid Bouvier is the mother of Selma Bouvier\n",
            "Jacqueline Ingrid Bouvier is the mother of Marjorie Jacueline Simpson\n",
            "Mona Simpson is the mother of Homer Jay Simpson\n",
            "Mona Simpson is the mother of Abbey Simpson\n",
            "Mona Simpson is the mother of Herbet Herb Powel\n",
            "Marjorie Jacueline Simpson is the mother of Bartholomew JoJo Simpson\n",
            "Marjorie Jacueline Simpson is the mother of Lisa Marie Simpson\n",
            "Marjorie Jacueline Simpson is the mother of Maggie Simpson\n"
          ]
        }
      ],
      "source": [
        "from pyswip import Prolog\n",
        "prolog = Prolog()\n",
        "\n",
        "prolog.assertz(\"mother('Jacqueline Ingrid Bouvier','Patty Bouvier')\")\n",
        "prolog.assertz(\"mother('Jacqueline Ingrid Bouvier','Selma Bouvier')\")\n",
        "prolog.assertz(\"mother('Jacqueline Ingrid Bouvier','Marjorie Jacueline Simpson')\")\n",
        "list(prolog.query(\"mother('Jacqueline Ingrid Bouvier',X)\")) == [{'X': 'Patty Bouvier'}, {'X': 'Selma Bouvier'}, {'X': 'Marjorie Jacueline Simpson'}]\n",
        "prolog.assertz(\"mother('Mona Simpson','Homer Jay Simpson')\")\n",
        "prolog.assertz(\"mother('Mona Simpson','Abbey Simpson')\")\n",
        "prolog.assertz(\"mother('Mona Simpson','Herbet Herb Powel')\")\n",
        "list(prolog.query(\"mother('Mona Simpson',X)\")) == [{'X': 'Homer Jay Simpson'}, {'X': 'Abbey Simpson'}, {'X': 'Herbet Herb Powel'}]\n",
        "prolog.assertz(\"mother('Marjorie Jacueline Simpson','Bartholomew JoJo Simpson')\")\n",
        "prolog.assertz(\"mother('Marjorie Jacueline Simpson','Lisa Marie Simpson')\")\n",
        "prolog.assertz(\"mother('Marjorie Jacueline Simpson','Maggie Simpson')\")\n",
        "list(prolog.query(\"mother('Marjorie Jacueline Simpson',X)\")) == [{'X': 'Bartholomew JoJo Simpson'}, {'X': 'Lisa Marie Simpson'}, {'X': 'Maggie Simpson'}]\n",
        "c1=0\n",
        "c2=0\n",
        "c3=0\n",
        "l1=len(list(prolog.query(\"mother('Jacqueline Ingrid Bouvier',X)\")))\n",
        "l2=len(list(prolog.query(\"mother('Mona Simpson',X)\")))\n",
        "l3=len(list(prolog.query(\"mother('Marjorie Jacueline Simpson',X)\")))\n",
        "#print(l1,l2,l3)\n",
        "for soln in prolog.query(\"mother(X,Y)\"):\n",
        "    print(soln[\"X\"], \"is the mother of\", soln[\"Y\"])"
      ]
    },
    {
      "cell_type": "code",
      "source": [
        "from pyswip import Prolog\n",
        "\n",
        "for soln in prolog.query(\"father(X,Y)\"):\n",
        "    print(soln[\"X\"], \"is the father of\", soln[\"Y\"])"
      ],
      "metadata": {
        "colab": {
          "base_uri": "https://localhost:8080/"
        },
        "id": "xGmZ9g8DieI-",
        "outputId": "7718da49-880e-460f-8f18-8d39e00f68a3"
      },
      "execution_count": 12,
      "outputs": [
        {
          "output_type": "stream",
          "name": "stdout",
          "text": [
            "Clancy Bouvier is the father of Patty Bouvier\n",
            "Clancy Bouvier is the father of Selma Bouvier\n",
            "Clancy Bouvier is the father of Marjorie Jacqueline Simpson\n",
            "Grampa Simpson Abraham II is the father of Herbert Powell\n",
            "Grampa Simpson Abraham II is the father of Abbey Simpson\n",
            "Grampa Simpson Abraham II is the father of Homer Jay Simpson\n",
            "Homer Jay Simpson is the father of Bartholomew JoJo Simpson\n",
            "Homer Jay Simpson is the father of Lisa Marie Simpson\n",
            "Homer Jay Simpson is the father of Maggie Simpson\n",
            "Clancy Bouvier is the father of Patty Bouvier\n",
            "Clancy Bouvier is the father of Selma Bouvier\n",
            "Clancy Bouvier is the father of Marjorie Jacqueline Simpson\n",
            "Grampa Simpson Abraham II is the father of Herbert Powell\n",
            "Grampa Simpson Abraham II is the father of Abbey Simpson\n",
            "Grampa Simpson Abraham II is the father of Homer Jay Simpson\n",
            "Homer Jay Simpson is the father of Bartholomew JoJo Simpson\n",
            "Homer Jay Simpson is the father of Lisa Marie Simpson\n",
            "Homer Jay Simpson is the father of Maggie Simpson\n"
          ]
        }
      ]
    }
  ]
}