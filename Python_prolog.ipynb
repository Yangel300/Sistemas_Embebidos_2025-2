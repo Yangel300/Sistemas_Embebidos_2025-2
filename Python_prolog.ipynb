{
  "nbformat": 4,
  "nbformat_minor": 0,
  "metadata": {
    "colab": {
      "provenance": [],
      "include_colab_link": true
    },
    "kernelspec": {
      "name": "python3",
      "display_name": "Python 3"
    }
  },
  "cells": [
    {
      "cell_type": "markdown",
      "metadata": {
        "id": "view-in-github",
        "colab_type": "text"
      },
      "source": [
        "<a href=\"https://colab.research.google.com/github/Yangel300/Sistemas_Embebidos_2025-2/blob/main/Python_prolog.ipynb\" target=\"_parent\"><img src=\"https://colab.research.google.com/assets/colab-badge.svg\" alt=\"Open In Colab\"/></a>"
      ]
    },
    {
      "cell_type": "markdown",
      "metadata": {
        "id": "I6Rrc_5FZPSD"
      },
      "source": [
        "## OSCAR JULIÁN PERDOMO CHARRY, PhD, ojperdomoc@unal.edu.co\n",
        "## SISTEMAS EMBEBIDOS\n",
        "## UNIVERSIDAD NACIONAL DE COLOMBIA"
      ]
    },
    {
      "cell_type": "code",
      "source": [
        "!pip install /content/pylog.py"
      ],
      "metadata": {
        "id": "Ia7WLdTmxZeC",
        "outputId": "0d2fe1be-93e4-471d-8f61-e0b24b3ace70",
        "colab": {
          "base_uri": "https://localhost:8080/"
        }
      },
      "execution_count": 4,
      "outputs": [
        {
          "output_type": "stream",
          "name": "stdout",
          "text": [
            "\u001b[31mERROR: Invalid requirement: '/content/pylog.py': Expected package name at the start of dependency specifier\n",
            "    /content/pylog.py\n",
            "    ^\n",
            "Hint: It looks like a path. The path does exist. \u001b[0m\u001b[31m\n",
            "\u001b[0m"
          ]
        }
      ]
    },
    {
      "cell_type": "markdown",
      "metadata": {
        "id": "YYxVu84wZNVF"
      },
      "source": [
        "# **PROLOG**"
      ]
    },
    {
      "cell_type": "markdown",
      "metadata": {
        "id": "uZJlaM1fz2QZ"
      },
      "source": [
        "[Prolog (o PROLOG)](https://es.wikipedia.org/wiki/Prolog), proveniente del francés PROgrammation en LOGique (1972),​ es un lenguaje de programación lógico e interpretado usado habitualmente en el campo de la Inteligencia artificial."
      ]
    },
    {
      "cell_type": "markdown",
      "metadata": {
        "id": "mNpwmizs1bOR"
      },
      "source": [
        "![](https://drive.google.com/uc?export=view&id=1fO_K3nCn3fjp7ESKPUzt1stagUkitdal)"
      ]
    },
    {
      "cell_type": "markdown",
      "metadata": {
        "id": "bDwmuc953BTV"
      },
      "source": [
        "![](https://img.devrant.com/devrant/rant/r_925930_XYX4K.jpg)"
      ]
    },
    {
      "cell_type": "markdown",
      "metadata": {
        "id": "dHQfaxGGXp49"
      },
      "source": [
        "##Gramática\n",
        "\n",
        "```\n",
        "<expr> ::= <integer>\n",
        "            true\n",
        "            false\n",
        "            <identifier>\n",
        "\n",
        "<fact> ::= relation(constant, ...).\n",
        "\n",
        "<rule> ::= name(constant, ... ) :- name(constant, ...), ... .\n",
        "```\n",
        "\n",
        "\n"
      ]
    },
    {
      "cell_type": "markdown",
      "metadata": {
        "id": "lldH6KbsdO-4"
      },
      "source": [
        "## Hechos\n",
        "\n",
        "Los hechos son los componentes básicos de PyLog. La definición de un hecho agrega el hecho al ambiente de trabajo. Usted define un hecho siguiéndolo con un punto:\n",
        "\n",
        "```\n",
        "pylog> happy(hannah).\n",
        "Fact happy defined\n",
        "```\n",
        "\n",
        "La palabra entre paréntesis es una constante. Las constantes siempre están en minúsculas. Los hechos se pueden definir como relaciones entre múltiples constantes:\n",
        "\n",
        "```\n",
        "pylog> loves(mary,sally).\n",
        "Fact loves defined\n",
        "```\n",
        "\n",
        "Sin embargo, una vez que define un hecho / relación, siempre se le debe dar el mismo número de constantes:\n",
        "\n",
        "```\n",
        "pylog> loves(hannah).\n",
        "Error: Fact loves takes 2 argument(s), 1 given.\n",
        "```"
      ]
    },
    {
      "cell_type": "code",
      "metadata": {
        "id": "YAHMxKzMoh49",
        "outputId": "dc1f8375-5f43-4ad7-d2c1-9eafdf6eda4c",
        "colab": {
          "base_uri": "https://localhost:8080/",
          "height": 410
        }
      },
      "source": [
        "##NO CORRER ESTA CELDA!!!\n",
        "!python pylog.py"
      ],
      "execution_count": null,
      "outputs": [
        {
          "output_type": "stream",
          "text": [
            "Prolog-ish Interpreter\n",
            "#quit to quit\n",
            "pylog> happy(hannah).\n",
            "Fact happy defined\n",
            "pylog> loves(mary,sally).\n",
            "Fact loves defined\n",
            "pylog> loves(hannah).\n",
            "Error: Fact loves takes 2 argument(s), 1 given.\n",
            "pylog> loves(hannah,hannah).\n",
            "pylog> loves(mary, hannah).\n",
            "pylog> loves(mary,sally)?\n",
            "yes\n",
            "pylog> loves(john,sally).\n",
            "pylog> loves(mary,john).\n",
            "pylog> loves(X,sally)?\n",
            "loves('mary', 'sally').\n",
            "loves('john', 'sally').\n",
            "pylog> loves(sally,X)?\n",
            "pylog> loves(john,X)?\n",
            "loves('john', 'sally').\n",
            "pylog> #quit\n"
          ],
          "name": "stdout"
        }
      ]
    },
    {
      "cell_type": "code",
      "metadata": {
        "id": "wptKBQbDDqPx",
        "colab": {
          "base_uri": "https://localhost:8080/"
        },
        "outputId": "3e833b4f-61c9-44bf-d2fa-541895e40555"
      },
      "source": [
        "##CORRER ESTA CELDA PARA OBTENER LA SALIDA ANTERIOR!\n",
        "!python pylog.py"
      ],
      "execution_count": 5,
      "outputs": [
        {
          "output_type": "stream",
          "name": "stdout",
          "text": [
            "Prolog-ish Interpreter\n",
            "#quit to quit\n",
            "pylog> loves(X,sally)?\n",
            "Error: loves not found in environment.\n",
            "pylog> loves(mary,hanna).\n",
            "Fact loves defined\n",
            "pylog> loves(X,sally)?\n",
            "pylog> loves(X,hanna)?\n",
            "loves('mary', 'hanna').\n",
            "pylog> quit\n",
            "Exception: Expected '(', found end of text  (at char 4), (line:1, col:5)\n",
            "pylog> #quit\n"
          ]
        }
      ]
    },
    {
      "cell_type": "code",
      "source": [
        "%whos"
      ],
      "metadata": {
        "colab": {
          "base_uri": "https://localhost:8080/"
        },
        "id": "JwNgJCoKd3Vc",
        "outputId": "50642fbb-dcf4-4c6a-e4f1-f3b4588b76de"
      },
      "execution_count": null,
      "outputs": [
        {
          "output_type": "stream",
          "name": "stdout",
          "text": [
            "Interactive namespace is empty.\n"
          ]
        }
      ]
    },
    {
      "cell_type": "markdown",
      "metadata": {
        "id": "6Bsah68ed6vd"
      },
      "source": [
        "## Consulta\n",
        "\n",
        "Puede verificar si un hecho está en el entorno usando un signo de interrogación en lugar de un punto:\n",
        "\n",
        "```\n",
        "pylog> loves(mary,sally)?\n",
        "yes\n",
        "```\n",
        "\n",
        "También puede usar variables para verificar todos los hechos que coinciden con una determinada condición. Las variables siempre comienzan con una letra mayúscula. Primero, agreguemos algunos hechos más a la relación de *loves*:\n",
        "\n",
        "```\n",
        "pylog> loves(john,sally).\n",
        "pylog> loves(mary,john).\n",
        "```\n",
        "\n",
        "Ahora podemos buscar todas las personas que aman a Sally?\n",
        "\n",
        "```\n",
        "pylog> loves(X,sally)?\n",
        "loves('mary', 'sally').\n",
        "loves('john', 'sally').\n",
        "```"
      ]
    },
    {
      "cell_type": "code",
      "metadata": {
        "id": "SUfz57BrX9e9",
        "outputId": "28e85a50-ddb8-4b1c-e304-45e72d98d800",
        "colab": {
          "base_uri": "https://localhost:8080/",
          "height": 546
        }
      },
      "source": [
        "##NO CORRER ESTA CELDA!!!\n",
        "!python pylog.py"
      ],
      "execution_count": null,
      "outputs": [
        {
          "output_type": "stream",
          "text": [
            "Prolog-ish Interpreter\n",
            "#quit to quit\n",
            "pylog> happy(hannah).\n",
            "Fact happy defined\n",
            "pylog> loves(mary,sally).\n",
            "Fact loves defined\n",
            "pylog> loves(hannah).\n",
            "Error: Fact loves takes 2 argument(s), 1 given.\n",
            "pylog> loves(mary,sally)?\n",
            "yes\n",
            "pylog> loves(mary,hannah)?\n",
            "no\n",
            "pylog> loves(X,sally)?\n",
            "loves('mary', 'sally').\n",
            "pylog> loves(john,sally).\n",
            "pylog> loves(X,sally)?\n",
            "loves('mary', 'sally').\n",
            "loves('john', 'sally').\n",
            "pylog> notsad(X):-happy(X).\n",
            "Rule notsad defined\n",
            "pylog> notsad(hannah)?\n",
            "yes\n",
            "pylog> #env\n",
            "Relations:\n",
            "{'happy': [['hannah']], 'loves': [['mary', 'sally'], ['john', 'sally']]}\n",
            "Rules:\n",
            "{'notsad': {'vars': ['X'], 'body': [('happy', (['X'], {}))]}}\n",
            "pylog> "
          ],
          "name": "stdout"
        }
      ]
    },
    {
      "cell_type": "code",
      "metadata": {
        "outputId": "d5c29091-a313-4bc0-e272-43317ca335d8",
        "colab": {
          "base_uri": "https://localhost:8080/"
        },
        "id": "u7FMMI8vPIKd"
      },
      "source": [
        "##CORRER ESTA CELDA PARA OBTENER LA SALIDA ANTERIOR!\n",
        "!python pylog.py"
      ],
      "execution_count": null,
      "outputs": [
        {
          "output_type": "stream",
          "name": "stdout",
          "text": [
            "Prolog-ish Interpreter\n",
            "#quit to quit\n",
            "pylog> Traceback (most recent call last):\n",
            "  File \"/content/pylog.py\", line 251, in <module>\n",
            "    shell()\n",
            "  File \"/content/pylog.py\", line 185, in shell\n",
            "    inp = input(\"pylog> \")\n",
            "          ^^^^^^^^^^^^^^^^\n",
            "KeyboardInterrupt\n",
            "^C\n"
          ]
        }
      ]
    },
    {
      "cell_type": "markdown",
      "metadata": {
        "id": "QWHid3HieyOK"
      },
      "source": [
        "## Reglas\n",
        "\n",
        "Las reglas son la parte más útil de Prolog. Para definir una regla en PyLog, utiliza el operador ':-'\n",
        "\n",
        "```\n",
        "pylog> notsad(X) :- happy(X).\n",
        "Rule notsad defined\n",
        "```\n",
        "\n",
        "Esta regla simplemente dice que alguien que no está triste es lo mismo que ser feliz. Ahora, podemos verificar hechos que satisfagan las condiciones de esta regla:\n",
        "\n",
        "```\n",
        "pylog> notsad(hannah)?\n",
        "yes\n",
        "```"
      ]
    },
    {
      "cell_type": "code",
      "metadata": {
        "id": "6A69emfM8D8T",
        "outputId": "1d1fd05a-fba4-44c3-b301-2b9af61b0be1",
        "colab": {
          "base_uri": "https://localhost:8080/",
          "height": 186
        }
      },
      "source": [
        "#NO CORRER ESTA CELDA\n",
        "!python pylog.py"
      ],
      "execution_count": null,
      "outputs": [
        {
          "output_type": "stream",
          "text": [
            "Prolog-ish Interpreter\n",
            "#quit to quit\n",
            "pylog> happy(hannah).\n",
            "Fact happy defined\n",
            "pylog> notsad(X):-happy(X).\n",
            "Rule notsad defined\n",
            "pylog> notsad(hannah)?\n",
            "yes\n",
            "pylog> #quit\n"
          ],
          "name": "stdout"
        }
      ]
    },
    {
      "cell_type": "code",
      "source": [
        "##CORRER ESTA CELDA PARA OBTENER LA SALIDA ANTERIOR!\n",
        "!python pylog.py"
      ],
      "metadata": {
        "id": "HSXGX_zK6Cmw"
      },
      "execution_count": null,
      "outputs": []
    },
    {
      "cell_type": "markdown",
      "metadata": {
        "id": "35MAMo788fLi"
      },
      "source": [
        "Las reglas también pueden tomar múltiples hechos:\n",
        "\n",
        "```\n",
        "pylog> foobar(X) :- foo(X), bar(X).\n",
        "Rule foobar defined\n",
        "```\n",
        "Los hechos tienen que satisfacer todas las condiciones de la regla para satisfacer la regla:\n",
        "```\n",
        "pylog> bar(bob).\n",
        "Fact bar defined\n",
        "pylog> foo(bob).\n",
        "Fact foo defined\n",
        "pylog> foobar(bob)?\n",
        "yes\n",
        "pylog> bar(joe).\n",
        "pylog> foobar(joe)?\n",
        "no\n",
        "```"
      ]
    },
    {
      "cell_type": "code",
      "metadata": {
        "id": "LGBiZ6ja8hAu",
        "outputId": "e2c3d3ec-e5ee-4e10-90c2-ab8ed7a4063d",
        "colab": {
          "base_uri": "https://localhost:8080/"
        }
      },
      "source": [
        "!python pylog.py"
      ],
      "execution_count": null,
      "outputs": [
        {
          "output_type": "stream",
          "name": "stdout",
          "text": [
            "Prolog-ish Interpreter\n",
            "#quit to quit\n",
            "pylog> bar(bob).\n",
            "Fact bar defined\n",
            "pylog> foo(bob).\n",
            "Fact foo defined\n",
            "pylog> foobar(bob)?\n",
            "Error: foobar not found in environment.\n",
            "pylog> foobar(X) :- foo(X), bar(X).\n",
            "Rule foobar defined\n",
            "pylog> foobar(bob)?\n",
            "yes\n",
            "pylog> bar(joe).\n",
            "pylog> foobar(joe)?\n",
            "no\n",
            "pylog> #quit\n"
          ]
        }
      ]
    },
    {
      "cell_type": "markdown",
      "metadata": {
        "id": "IjsPbUQyiTcU"
      },
      "source": [
        "## Ambiente\n",
        "\n",
        "El comando '#env' imprime todo lo que está actualmente en el entorno. Aquí vemos cómo se almacena todo:\n",
        "\n",
        "```\n",
        "pylog> #env\n",
        "Relations:\n",
        "{'loves': [['mary', 'sally'], ['bob', 'sally'], ['john', 'sally'], ['mary', 'john']], 'foo': [['bob']],\n",
        "'bar': [['bob'], ['joe']], 'happy': [['hannah']]}\n",
        "Rules:\n",
        "{'foobar': {'body': [('foo', (['X'], {})), ('bar', (['X'], {}))], 'vars': ['X']}, 'notsad': {'body':\n",
        "[('happy', (['X'], {}))], 'vars': ['X']}}\n",
        "\n",
        "```"
      ]
    },
    {
      "cell_type": "markdown",
      "metadata": {
        "id": "rZhXoeeRf7oD"
      },
      "source": [
        "#### Comandos hasta el momento:\n",
        "\n",
        "*   pylog> happy(hannah).\n",
        "*   pylog> loves(mary,sally).\n",
        "*   pylog> loves(john,sally).\n",
        "*   pylog>  loves(mary,john)."
      ]
    },
    {
      "cell_type": "code",
      "metadata": {
        "id": "OiEbGpF1drWK",
        "outputId": "8c307e70-d594-42f1-d2ab-f83530726ac0",
        "colab": {
          "base_uri": "https://localhost:8080/"
        }
      },
      "source": [
        "!python pylog.py"
      ],
      "execution_count": null,
      "outputs": [
        {
          "output_type": "stream",
          "name": "stdout",
          "text": [
            "Prolog-ish Interpreter\n",
            "#quit to quit\n",
            "pylog> happy(hannah).\n",
            "Fact happy defined\n",
            "pylog> loves(mary,sally).\n",
            "Fact loves defined\n",
            "pylog> loves(john,sally).\n",
            "pylog> loves(mary,john).\n",
            "pylog> #env\n",
            "Relations:\n",
            "{'happy': [['hannah']], 'loves': [['mary', 'sally'], ['john', 'sally'], ['mary', 'john']]}\n",
            "Rules:\n",
            "{}\n",
            "pylog> notsad(X):-happy(X).\n",
            "Rule notsad defined\n",
            "pylog> notsad(hannah)?\n",
            "yes\n",
            "pylog> object address  : 0x78057e8c9ae0\n",
            "object refcount : 2\n",
            "object type     : 0x9d5ea0\n",
            "object type name: KeyboardInterrupt\n",
            "object repr     : KeyboardInterrupt()\n",
            "lost sys.stderr\n",
            "^C\n"
          ]
        }
      ]
    },
    {
      "cell_type": "markdown",
      "metadata": {
        "id": "Qs8DJIxD-I6D"
      },
      "source": [
        "![](https://encrypted-tbn0.gstatic.com/images?q=tbn:ANd9GcQyuLkX7KL3zf_WQIk7zCHBoITPnlB9cJy8X6LGzmYwi88w9ryjCg&s)"
      ]
    },
    {
      "cell_type": "markdown",
      "metadata": {
        "id": "UhtGRDJ73otC"
      },
      "source": [
        "# Que versión instalar de Prolog?\n",
        "__NOTA: TENGA EN CUENTA LA VERSIÓN DEL PYTHON!__"
      ]
    },
    {
      "cell_type": "markdown",
      "metadata": {
        "id": "Ezh2_Bnc36aL"
      },
      "source": [
        "[Búsqueda rápida](https://pypi.org/search/?q=prolog)"
      ]
    },
    {
      "cell_type": "markdown",
      "metadata": {
        "id": "MPrAtBKt_czq"
      },
      "source": [
        "#[Repo-Pyswip](https://github.com/yuce/pyswip) - [Website PySwip](https://pyswip.org/)"
      ]
    },
    {
      "cell_type": "code",
      "source": [
        "!sudo apt-get install swi-prolog"
      ],
      "metadata": {
        "colab": {
          "base_uri": "https://localhost:8080/"
        },
        "id": "y_6U8K796hre",
        "outputId": "d3e8c03e-322d-4598-eab7-88eb0f9214eb"
      },
      "execution_count": 6,
      "outputs": [
        {
          "output_type": "stream",
          "name": "stdout",
          "text": [
            "Reading package lists... Done\n",
            "Building dependency tree... Done\n",
            "Reading state information... Done\n",
            "The following additional packages will be installed:\n",
            "  autopoint debhelper debugedit dh-autoreconf dh-strip-nondeterminism dwz\n",
            "  gettext gettext-base intltool-debian libarchive-cpio-perl\n",
            "  libarchive-zip-perl libdebhelper-perl libfile-stripnondeterminism-perl\n",
            "  libmail-sendmail-perl libossp-uuid16 libsub-override-perl\n",
            "  libsys-hostname-long-perl libtool po-debconf swi-prolog-core\n",
            "  swi-prolog-core-packages swi-prolog-doc swi-prolog-nox swi-prolog-x\n",
            "Suggested packages:\n",
            "  dh-make gettext-doc libasprintf-dev libgettextpo-dev uuid libtool-doc\n",
            "  gcj-jdk libmail-box-perl elpa-ediprolog swi-prolog-java swi-prolog-odbc\n",
            "  swi-prolog-bdb\n",
            "The following NEW packages will be installed:\n",
            "  autopoint debhelper debugedit dh-autoreconf dh-strip-nondeterminism dwz\n",
            "  gettext gettext-base intltool-debian libarchive-cpio-perl\n",
            "  libarchive-zip-perl libdebhelper-perl libfile-stripnondeterminism-perl\n",
            "  libmail-sendmail-perl libossp-uuid16 libsub-override-perl\n",
            "  libsys-hostname-long-perl libtool po-debconf swi-prolog swi-prolog-core\n",
            "  swi-prolog-core-packages swi-prolog-doc swi-prolog-nox swi-prolog-x\n",
            "0 upgraded, 25 newly installed, 0 to remove and 35 not upgraded.\n",
            "Need to get 9,926 kB of archives.\n",
            "After this operation, 42.3 MB of additional disk space will be used.\n",
            "Get:1 http://archive.ubuntu.com/ubuntu jammy/main amd64 gettext-base amd64 0.21-4ubuntu4 [37.8 kB]\n",
            "Get:2 http://archive.ubuntu.com/ubuntu jammy/main amd64 autopoint all 0.21-4ubuntu4 [422 kB]\n",
            "Get:3 http://archive.ubuntu.com/ubuntu jammy/main amd64 libdebhelper-perl all 13.6ubuntu1 [67.2 kB]\n",
            "Get:4 http://archive.ubuntu.com/ubuntu jammy/main amd64 libtool all 2.4.6-15build2 [164 kB]\n",
            "Get:5 http://archive.ubuntu.com/ubuntu jammy/main amd64 dh-autoreconf all 20 [16.1 kB]\n",
            "Get:6 http://archive.ubuntu.com/ubuntu jammy/main amd64 libarchive-zip-perl all 1.68-1 [90.2 kB]\n",
            "Get:7 http://archive.ubuntu.com/ubuntu jammy/main amd64 libsub-override-perl all 0.09-2 [9,532 B]\n",
            "Get:8 http://archive.ubuntu.com/ubuntu jammy/main amd64 libfile-stripnondeterminism-perl all 1.13.0-1 [18.1 kB]\n",
            "Get:9 http://archive.ubuntu.com/ubuntu jammy/main amd64 dh-strip-nondeterminism all 1.13.0-1 [5,344 B]\n",
            "Get:10 http://archive.ubuntu.com/ubuntu jammy/main amd64 debugedit amd64 1:5.0-4build1 [47.2 kB]\n",
            "Get:11 http://archive.ubuntu.com/ubuntu jammy/main amd64 dwz amd64 0.14-1build2 [105 kB]\n",
            "Get:12 http://archive.ubuntu.com/ubuntu jammy/main amd64 gettext amd64 0.21-4ubuntu4 [868 kB]\n",
            "Get:13 http://archive.ubuntu.com/ubuntu jammy/main amd64 intltool-debian all 0.35.0+20060710.5 [24.9 kB]\n",
            "Get:14 http://archive.ubuntu.com/ubuntu jammy/main amd64 po-debconf all 1.0.21+nmu1 [233 kB]\n",
            "Get:15 http://archive.ubuntu.com/ubuntu jammy/main amd64 debhelper all 13.6ubuntu1 [923 kB]\n",
            "Get:16 http://archive.ubuntu.com/ubuntu jammy/main amd64 libarchive-cpio-perl all 0.10-1.1 [9,928 B]\n",
            "Get:17 http://archive.ubuntu.com/ubuntu jammy/main amd64 libsys-hostname-long-perl all 1.5-2 [11.5 kB]\n",
            "Get:18 http://archive.ubuntu.com/ubuntu jammy/main amd64 libmail-sendmail-perl all 0.80-1.1 [22.7 kB]\n",
            "Get:19 http://archive.ubuntu.com/ubuntu jammy/universe amd64 libossp-uuid16 amd64 1.6.2-1.5build9 [31.4 kB]\n",
            "Get:20 http://archive.ubuntu.com/ubuntu jammy/universe amd64 swi-prolog-core amd64 8.4.2+dfsg-2ubuntu1 [1,493 kB]\n",
            "Get:21 http://archive.ubuntu.com/ubuntu jammy/universe amd64 swi-prolog-doc all 8.4.2+dfsg-2ubuntu1 [1,504 kB]\n",
            "Get:22 http://archive.ubuntu.com/ubuntu jammy/universe amd64 swi-prolog-core-packages amd64 8.4.2+dfsg-2ubuntu1 [1,335 kB]\n",
            "Get:23 http://archive.ubuntu.com/ubuntu jammy/universe amd64 swi-prolog-nox amd64 8.4.2+dfsg-2ubuntu1 [165 kB]\n",
            "Get:24 http://archive.ubuntu.com/ubuntu jammy/universe amd64 swi-prolog-x amd64 8.4.2+dfsg-2ubuntu1 [2,314 kB]\n",
            "Get:25 http://archive.ubuntu.com/ubuntu jammy/universe amd64 swi-prolog amd64 8.4.2+dfsg-2ubuntu1 [9,122 B]\n",
            "Fetched 9,926 kB in 3s (3,253 kB/s)\n",
            "debconf: unable to initialize frontend: Dialog\n",
            "debconf: (No usable dialog-like program is installed, so the dialog based frontend cannot be used. at /usr/share/perl5/Debconf/FrontEnd/Dialog.pm line 78, <> line 25.)\n",
            "debconf: falling back to frontend: Readline\n",
            "debconf: unable to initialize frontend: Readline\n",
            "debconf: (This frontend requires a controlling tty.)\n",
            "debconf: falling back to frontend: Teletype\n",
            "dpkg-preconfigure: unable to re-open stdin: \n",
            "Selecting previously unselected package gettext-base.\n",
            "(Reading database ... 126435 files and directories currently installed.)\n",
            "Preparing to unpack .../00-gettext-base_0.21-4ubuntu4_amd64.deb ...\n",
            "Unpacking gettext-base (0.21-4ubuntu4) ...\n",
            "Selecting previously unselected package autopoint.\n",
            "Preparing to unpack .../01-autopoint_0.21-4ubuntu4_all.deb ...\n",
            "Unpacking autopoint (0.21-4ubuntu4) ...\n",
            "Selecting previously unselected package libdebhelper-perl.\n",
            "Preparing to unpack .../02-libdebhelper-perl_13.6ubuntu1_all.deb ...\n",
            "Unpacking libdebhelper-perl (13.6ubuntu1) ...\n",
            "Selecting previously unselected package libtool.\n",
            "Preparing to unpack .../03-libtool_2.4.6-15build2_all.deb ...\n",
            "Unpacking libtool (2.4.6-15build2) ...\n",
            "Selecting previously unselected package dh-autoreconf.\n",
            "Preparing to unpack .../04-dh-autoreconf_20_all.deb ...\n",
            "Unpacking dh-autoreconf (20) ...\n",
            "Selecting previously unselected package libarchive-zip-perl.\n",
            "Preparing to unpack .../05-libarchive-zip-perl_1.68-1_all.deb ...\n",
            "Unpacking libarchive-zip-perl (1.68-1) ...\n",
            "Selecting previously unselected package libsub-override-perl.\n",
            "Preparing to unpack .../06-libsub-override-perl_0.09-2_all.deb ...\n",
            "Unpacking libsub-override-perl (0.09-2) ...\n",
            "Selecting previously unselected package libfile-stripnondeterminism-perl.\n",
            "Preparing to unpack .../07-libfile-stripnondeterminism-perl_1.13.0-1_all.deb ...\n",
            "Unpacking libfile-stripnondeterminism-perl (1.13.0-1) ...\n",
            "Selecting previously unselected package dh-strip-nondeterminism.\n",
            "Preparing to unpack .../08-dh-strip-nondeterminism_1.13.0-1_all.deb ...\n",
            "Unpacking dh-strip-nondeterminism (1.13.0-1) ...\n",
            "Selecting previously unselected package debugedit.\n",
            "Preparing to unpack .../09-debugedit_1%3a5.0-4build1_amd64.deb ...\n",
            "Unpacking debugedit (1:5.0-4build1) ...\n",
            "Selecting previously unselected package dwz.\n",
            "Preparing to unpack .../10-dwz_0.14-1build2_amd64.deb ...\n",
            "Unpacking dwz (0.14-1build2) ...\n",
            "Selecting previously unselected package gettext.\n",
            "Preparing to unpack .../11-gettext_0.21-4ubuntu4_amd64.deb ...\n",
            "Unpacking gettext (0.21-4ubuntu4) ...\n",
            "Selecting previously unselected package intltool-debian.\n",
            "Preparing to unpack .../12-intltool-debian_0.35.0+20060710.5_all.deb ...\n",
            "Unpacking intltool-debian (0.35.0+20060710.5) ...\n",
            "Selecting previously unselected package po-debconf.\n",
            "Preparing to unpack .../13-po-debconf_1.0.21+nmu1_all.deb ...\n",
            "Unpacking po-debconf (1.0.21+nmu1) ...\n",
            "Selecting previously unselected package debhelper.\n",
            "Preparing to unpack .../14-debhelper_13.6ubuntu1_all.deb ...\n",
            "Unpacking debhelper (13.6ubuntu1) ...\n",
            "Selecting previously unselected package libarchive-cpio-perl.\n",
            "Preparing to unpack .../15-libarchive-cpio-perl_0.10-1.1_all.deb ...\n",
            "Unpacking libarchive-cpio-perl (0.10-1.1) ...\n",
            "Selecting previously unselected package libsys-hostname-long-perl.\n",
            "Preparing to unpack .../16-libsys-hostname-long-perl_1.5-2_all.deb ...\n",
            "Unpacking libsys-hostname-long-perl (1.5-2) ...\n",
            "Selecting previously unselected package libmail-sendmail-perl.\n",
            "Preparing to unpack .../17-libmail-sendmail-perl_0.80-1.1_all.deb ...\n",
            "Unpacking libmail-sendmail-perl (0.80-1.1) ...\n",
            "Selecting previously unselected package libossp-uuid16:amd64.\n",
            "Preparing to unpack .../18-libossp-uuid16_1.6.2-1.5build9_amd64.deb ...\n",
            "Unpacking libossp-uuid16:amd64 (1.6.2-1.5build9) ...\n",
            "Selecting previously unselected package swi-prolog-core.\n",
            "Preparing to unpack .../19-swi-prolog-core_8.4.2+dfsg-2ubuntu1_amd64.deb ...\n",
            "Unpacking swi-prolog-core (8.4.2+dfsg-2ubuntu1) ...\n",
            "Selecting previously unselected package swi-prolog-doc.\n",
            "Preparing to unpack .../20-swi-prolog-doc_8.4.2+dfsg-2ubuntu1_all.deb ...\n",
            "Unpacking swi-prolog-doc (8.4.2+dfsg-2ubuntu1) ...\n",
            "Selecting previously unselected package swi-prolog-core-packages.\n",
            "Preparing to unpack .../21-swi-prolog-core-packages_8.4.2+dfsg-2ubuntu1_amd64.deb ...\n",
            "Unpacking swi-prolog-core-packages (8.4.2+dfsg-2ubuntu1) ...\n",
            "Selecting previously unselected package swi-prolog-nox.\n",
            "Preparing to unpack .../22-swi-prolog-nox_8.4.2+dfsg-2ubuntu1_amd64.deb ...\n",
            "Unpacking swi-prolog-nox (8.4.2+dfsg-2ubuntu1) ...\n",
            "Selecting previously unselected package swi-prolog-x.\n",
            "Preparing to unpack .../23-swi-prolog-x_8.4.2+dfsg-2ubuntu1_amd64.deb ...\n",
            "Unpacking swi-prolog-x (8.4.2+dfsg-2ubuntu1) ...\n",
            "Selecting previously unselected package swi-prolog.\n",
            "Preparing to unpack .../24-swi-prolog_8.4.2+dfsg-2ubuntu1_amd64.deb ...\n",
            "Unpacking swi-prolog (8.4.2+dfsg-2ubuntu1) ...\n",
            "Setting up libtool (2.4.6-15build2) ...\n",
            "Setting up libarchive-zip-perl (1.68-1) ...\n",
            "Setting up libdebhelper-perl (13.6ubuntu1) ...\n",
            "Setting up gettext-base (0.21-4ubuntu4) ...\n",
            "Setting up libossp-uuid16:amd64 (1.6.2-1.5build9) ...\n",
            "Setting up swi-prolog-core (8.4.2+dfsg-2ubuntu1) ...\n",
            "update-alternatives: using /usr/bin/swipl to provide /usr/bin/prolog (prolog) in auto mode\n",
            "Setting up autopoint (0.21-4ubuntu4) ...\n",
            "Setting up dwz (0.14-1build2) ...\n",
            "Setting up swi-prolog-core-packages (8.4.2+dfsg-2ubuntu1) ...\n",
            "Setting up libarchive-cpio-perl (0.10-1.1) ...\n",
            "Setting up debugedit (1:5.0-4build1) ...\n",
            "Setting up swi-prolog-nox (8.4.2+dfsg-2ubuntu1) ...\n",
            "Setting up libsub-override-perl (0.09-2) ...\n",
            "Setting up libsys-hostname-long-perl (1.5-2) ...\n",
            "Setting up libfile-stripnondeterminism-perl (1.13.0-1) ...\n",
            "Setting up swi-prolog-x (8.4.2+dfsg-2ubuntu1) ...\n",
            "Setting up gettext (0.21-4ubuntu4) ...\n",
            "Setting up swi-prolog-doc (8.4.2+dfsg-2ubuntu1) ...\n",
            "Setting up intltool-debian (0.35.0+20060710.5) ...\n",
            "Setting up dh-autoreconf (20) ...\n",
            "Setting up libmail-sendmail-perl (0.80-1.1) ...\n",
            "Setting up dh-strip-nondeterminism (1.13.0-1) ...\n",
            "Setting up swi-prolog (8.4.2+dfsg-2ubuntu1) ...\n",
            "Setting up po-debconf (1.0.21+nmu1) ...\n",
            "Setting up debhelper (13.6ubuntu1) ...\n",
            "Processing triggers for libc-bin (2.35-0ubuntu3.8) ...\n",
            "/sbin/ldconfig.real: /usr/local/lib/libtcm_debug.so.1 is not a symbolic link\n",
            "\n",
            "/sbin/ldconfig.real: /usr/local/lib/libhwloc.so.15 is not a symbolic link\n",
            "\n",
            "/sbin/ldconfig.real: /usr/local/lib/libtbbmalloc.so.2 is not a symbolic link\n",
            "\n",
            "/sbin/ldconfig.real: /usr/local/lib/libumf.so.0 is not a symbolic link\n",
            "\n",
            "/sbin/ldconfig.real: /usr/local/lib/libtbbbind_2_0.so.3 is not a symbolic link\n",
            "\n",
            "/sbin/ldconfig.real: /usr/local/lib/libtbbbind.so.3 is not a symbolic link\n",
            "\n",
            "/sbin/ldconfig.real: /usr/local/lib/libur_adapter_level_zero.so.0 is not a symbolic link\n",
            "\n",
            "/sbin/ldconfig.real: /usr/local/lib/libtbb.so.12 is not a symbolic link\n",
            "\n",
            "/sbin/ldconfig.real: /usr/local/lib/libur_adapter_opencl.so.0 is not a symbolic link\n",
            "\n",
            "/sbin/ldconfig.real: /usr/local/lib/libtbbbind_2_5.so.3 is not a symbolic link\n",
            "\n",
            "/sbin/ldconfig.real: /usr/local/lib/libtcm.so.1 is not a symbolic link\n",
            "\n",
            "/sbin/ldconfig.real: /usr/local/lib/libtbbmalloc_proxy.so.2 is not a symbolic link\n",
            "\n",
            "/sbin/ldconfig.real: /usr/local/lib/libur_adapter_level_zero_v2.so.0 is not a symbolic link\n",
            "\n",
            "/sbin/ldconfig.real: /usr/local/lib/libur_loader.so.0 is not a symbolic link\n",
            "\n",
            "Processing triggers for man-db (2.10.2-1) ...\n"
          ]
        }
      ]
    },
    {
      "cell_type": "code",
      "source": [
        "!pip install pyswip"
      ],
      "metadata": {
        "colab": {
          "base_uri": "https://localhost:8080/"
        },
        "id": "2lnqSOsWLbRD",
        "outputId": "e4f6dfd2-d9f4-4a3a-ed88-bdb55ed83a44"
      },
      "execution_count": 7,
      "outputs": [
        {
          "output_type": "stream",
          "name": "stdout",
          "text": [
            "Collecting pyswip\n",
            "  Downloading pyswip-0.3.3-py3-none-any.whl.metadata (5.1 kB)\n",
            "Downloading pyswip-0.3.3-py3-none-any.whl (36 kB)\n",
            "Installing collected packages: pyswip\n",
            "Successfully installed pyswip-0.3.3\n"
          ]
        }
      ]
    },
    {
      "cell_type": "code",
      "source": [
        "!pip install git+https://github.com/yuce/pyswip@master#egg=pyswip"
      ],
      "metadata": {
        "colab": {
          "base_uri": "https://localhost:8080/"
        },
        "id": "dWogb3uMPkK2",
        "outputId": "3094024d-ac3a-483c-a740-b204581182fe"
      },
      "execution_count": 8,
      "outputs": [
        {
          "output_type": "stream",
          "name": "stdout",
          "text": [
            "Collecting pyswip\n",
            "  Cloning https://github.com/yuce/pyswip (to revision master) to /tmp/pip-install-fb0u6ybb/pyswip_99a8ca571b3a4d788302ad014964c63b\n",
            "  Running command git clone --filter=blob:none --quiet https://github.com/yuce/pyswip /tmp/pip-install-fb0u6ybb/pyswip_99a8ca571b3a4d788302ad014964c63b\n",
            "  Resolved https://github.com/yuce/pyswip to commit febd9c95fcd931f003b951d1f04fa7011cecc64e\n",
            "  Installing build dependencies ... \u001b[?25l\u001b[?25hdone\n",
            "  Getting requirements to build wheel ... \u001b[?25l\u001b[?25hdone\n",
            "  Preparing metadata (pyproject.toml) ... \u001b[?25l\u001b[?25hdone\n"
          ]
        }
      ]
    },
    {
      "cell_type": "code",
      "source": [
        "from pyswip import Prolog\n",
        "prolog = Prolog()\n",
        "prolog.assertz(\"father(michael,john)\")\n",
        "prolog.assertz(\"father(michael,gina)\")\n",
        "list(prolog.query(\"father(michael,X)\")) == [{'X': 'john'}, {'X': 'gina'}]\n",
        "for soln in prolog.query(\"father(X,Y)\"):\n",
        "    print(soln[\"X\"], \"is the father of\", soln[\"Y\"])\n",
        "# michael is the father of john\n",
        "# michael is the father of gina"
      ],
      "metadata": {
        "colab": {
          "base_uri": "https://localhost:8080/"
        },
        "outputId": "53264b40-f970-4d8b-c473-c83494155945",
        "id": "4YnsUaW16XpU"
      },
      "execution_count": 9,
      "outputs": [
        {
          "output_type": "stream",
          "name": "stdout",
          "text": [
            "michael is the father of john\n",
            "michael is the father of gina\n"
          ]
        }
      ]
    },
    {
      "cell_type": "code",
      "source": [
        "!pip install pyswip"
      ],
      "metadata": {
        "colab": {
          "base_uri": "https://localhost:8080/"
        },
        "id": "yUIQXBn9R65z",
        "outputId": "0b643532-1073-45cf-9ae1-049731fcbf61"
      },
      "execution_count": 10,
      "outputs": [
        {
          "output_type": "stream",
          "name": "stdout",
          "text": [
            "Requirement already satisfied: pyswip in /usr/local/lib/python3.12/dist-packages (0.3.3)\n"
          ]
        }
      ]
    },
    {
      "cell_type": "code",
      "source": [
        "from pyswip import Prolog\n",
        "prolog = Prolog()\n",
        "prolog.assertz(\"father(michael,john)\")\n",
        "prolog.assertz(\"father(michael,gina)\")\n",
        "list(prolog.query(\"father(michael,X)\")) == [{'X': 'john'}, {'X': 'gina'}]\n",
        "for soln in prolog.query(\"father(X,Y)\"):\n",
        "    print(soln[\"X\"], \"is the father of\", soln[\"Y\"])\n",
        "# michael is the father of john\n",
        "# michael is the father of gina"
      ],
      "metadata": {
        "colab": {
          "base_uri": "https://localhost:8080/"
        },
        "id": "n8vVuNJNWncW",
        "outputId": "eff3be30-530e-4973-8403-012d4181e85a"
      },
      "execution_count": 11,
      "outputs": [
        {
          "output_type": "stream",
          "name": "stdout",
          "text": [
            "michael is the father of john\n",
            "michael is the father of gina\n",
            "michael is the father of john\n",
            "michael is the father of gina\n"
          ]
        }
      ]
    },
    {
      "cell_type": "code",
      "source": [
        "from pyswip import Prolog\n",
        "prolog = Prolog()\n",
        "prolog.assertz(\"father(michael,john)\")\n",
        "prolog.assertz(\"father(michael,gina)\")\n",
        "list(prolog.query(\"father(michael,X)\")) == [{'X': 'john'}, {'X': 'gina'}]\n",
        "for soln in prolog.query(\"father(X,Y)\"):\n",
        "    print(soln[\"X\"], \"is the father of\", soln[\"Y\"])\n",
        "# michael is the father of john\n",
        "# michael is the father of gina"
      ],
      "metadata": {
        "id": "aCkJfVfnn8V_",
        "colab": {
          "base_uri": "https://localhost:8080/"
        },
        "outputId": "017e3b24-d40a-4da1-85b8-649efa9e9509"
      },
      "execution_count": 12,
      "outputs": [
        {
          "output_type": "stream",
          "name": "stdout",
          "text": [
            "michael is the father of john\n",
            "michael is the father of gina\n",
            "michael is the father of john\n",
            "michael is the father of gina\n",
            "michael is the father of john\n",
            "michael is the father of gina\n"
          ]
        }
      ]
    },
    {
      "cell_type": "code",
      "metadata": {
        "colab": {
          "base_uri": "https://localhost:8080/"
        },
        "id": "DjsKqdyoSZuJ",
        "outputId": "4e48f924-c1f4-4c24-aad1-140bbf66597a"
      },
      "source": [
        "list(prolog.query(\"father(michael,X)\")) == [{'X': 'john'}, {'X': 'gina'}]\n",
        "for soln in prolog.query(\"father(X,Y)\"):\n",
        "    print(soln[\"X\"], \"is the father of\", soln[\"Y\"])"
      ],
      "execution_count": 13,
      "outputs": [
        {
          "output_type": "stream",
          "name": "stdout",
          "text": [
            "michael is the father of john\n",
            "michael is the father of gina\n",
            "michael is the father of john\n",
            "michael is the father of gina\n",
            "michael is the father of john\n",
            "michael is the father of gina\n"
          ]
        }
      ]
    },
    {
      "cell_type": "markdown",
      "metadata": {
        "id": "R6a1D3iIPq34"
      },
      "source": [
        "#[Swi-Prolog Online](https://www.swi-prolog.org/)"
      ]
    },
    {
      "cell_type": "markdown",
      "metadata": {
        "id": "kUPdJG1T4K6F"
      },
      "source": [
        "![](https://lh3.googleusercontent.com/proxy/zJeLYgg7jIZ0z9ICGgPNDS_rdb9c6bSW5yGxKgJjcZnIPtv-9sqP2JYBRae4sKiQFpOM7NQdyOt1axdUB5FtIzQzw_rMhlEQ7klVIgqkYAfOAKqtBjc3Tm7lyBIaEzI89RaWhIYPJTZoURzlXQ1ddnI-tZ-4)"
      ]
    },
    {
      "cell_type": "markdown",
      "source": [
        "### **Ejercicio en clase: Implementar el árgol genealógico de los Simpsons o una parte de un árbol genealógico de GOT en Prolog!!!**\n",
        "\n",
        "![](https://images.wondershare.com/edrawmax/article2023/simpsons-family-tree/the-simpson-family-tree.png)\n",
        "\n"
      ],
      "metadata": {
        "id": "VOOqDVxqSx3N"
      }
    },
    {
      "cell_type": "markdown",
      "metadata": {
        "id": "RbfvE1RJBGzg"
      },
      "source": [
        "![texto alternativo](https://res.cloudinary.com/practicaldev/image/fetch/s--xHrEYaWv--/c_limit%2Cf_auto%2Cfl_progressive%2Cq_auto%2Cw_880/https://thepracticaldev.s3.amazonaws.com/i/y6o0ncn9jzwas53bw2jn.jpg)"
      ]
    },
    {
      "cell_type": "markdown",
      "metadata": {
        "id": "UJvhQ1rvspq3"
      },
      "source": [
        "# [Un ejemplo sencillo](https://swish.swi-prolog.org/example/examples.swinb)"
      ]
    },
    {
      "cell_type": "code",
      "source": [
        "prolog.assertz(\"father(Clancy Bouvier,Patty Bouvier)\")\n",
        "prolog.assertz(\"father(Clancy Bouvier,Selma Bouvier)\")\n",
        "prolog.assertz(\"father(Clancy Bouvier, Marjorie Jacqueline Simpson)\")\n",
        "prolog.assertz(\"father(Grampa Simpson Abraham II,Herbert Powell)\")\n",
        "prolog.assertz(\"father(Grampa Simpson Abraham II,Abbey Simpson\")\n",
        "prolog.assertz(\"father(Grampa Simpson Abraham II,Homer Jay Simpson)\")"
      ],
      "metadata": {
        "id": "HA_oVLDxzpvM"
      },
      "execution_count": null,
      "outputs": []
    },
    {
      "cell_type": "code",
      "source": [],
      "metadata": {
        "id": "_0_S1U9u05KA"
      },
      "execution_count": null,
      "outputs": []
    }
  ]
}